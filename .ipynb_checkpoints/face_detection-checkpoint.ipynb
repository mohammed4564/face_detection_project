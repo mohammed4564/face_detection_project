{
 "cells": [
  {
   "cell_type": "code",
   "execution_count": 1,
   "id": "604c55d3-2eaf-47ff-83b5-72e48583e319",
   "metadata": {},
   "outputs": [],
   "source": [
    "import cv2\n",
    "import os\n",
    "import numpy as np\n",
    "from PIL import Image\n",
    "import tkinter as tk\n",
    "from tkinter import messagebox\n",
    "from tkinter import simpledialog\n",
    "import pyodbc"
   ]
  },
  {
   "cell_type": "code",
   "execution_count": null,
   "id": "86cc2cdd-72bd-4286-9412-efe27c665065",
   "metadata": {},
   "outputs": [],
   "source": []
  },
  {
   "cell_type": "code",
   "execution_count": 3,
   "id": "e5787b8d-84cb-47f4-99ab-266ed9611d48",
   "metadata": {},
   "outputs": [
    {
     "name": "stderr",
     "output_type": "stream",
     "text": [
      "<>:6: SyntaxWarning: \"is\" with 'tuple' literal. Did you mean \"==\"?\n",
      "<>:6: SyntaxWarning: \"is\" with 'tuple' literal. Did you mean \"==\"?\n",
      "C:\\Users\\lenovo\\AppData\\Local\\Temp\\ipykernel_19876\\2234793724.py:6: SyntaxWarning: \"is\" with 'tuple' literal. Did you mean \"==\"?\n",
      "  if faces is():\n"
     ]
    },
    {
     "name": "stdout",
     "output_type": "stream",
     "text": [
      "completed sample is collecting\n"
     ]
    }
   ],
   "source": [
    "\n",
    "def generate_dataset():\n",
    "    face_classifier=cv2.CascadeClassifier(\"haarcascade_frontalface_default.xml\")\n",
    "    def face_cropped(img):\n",
    "        gray=cv2.cvtColor(img,cv2.COLOR_BGR2GRAY)\n",
    "        faces=face_classifier.detectMultiScale(gray,1.5,5)\n",
    "        if faces is():\n",
    "            return None\n",
    "        for(x,y,w,h) in faces:\n",
    "            cropped_face=img[y:y+h,x:x+w]\n",
    "        return cropped_face\n",
    "    cap=cv2.VideoCapture(0)\n",
    "    id=1\n",
    "    img_id=0\n",
    "    while True:\n",
    "        ret,frame=cap.read()\n",
    "        if face_cropped(frame) is not None:\n",
    "            img_id+=1\n",
    "            face=cv2.resize(face_cropped(frame),(250,360))\n",
    "            face=cv2.cvtColor(face,cv2.COLOR_BGR2GRAY)\n",
    "            file_dir=\"data\"\n",
    "            if not os.path.exists(file_dir):\n",
    "                os.makedirs(file_dir)\n",
    "            file_name_path=os.path.join(file_dir,f\"user.{id}.{img_id}.jpg\")\n",
    "            cv2.imwrite(file_name_path,face)\n",
    "            cv2.putText(face,str(img_id),(50,50),cv2.FONT_HERSHEY_COMPLEX,1, (0,255,0),2)\n",
    "            #(50,50) IS THE ORIGINAL POINT FROM WERE TEXT IS TO BE WRITTEN\n",
    "            #FONT SCALE=1\n",
    "            #TICKNESS=2\n",
    "            cv2.imshow(\"cropped face\",face)\n",
    "            if cv2.waitKey(1)==13 or int(img_id)==50:\n",
    "                break\n",
    "    cap.release()\n",
    "    cv2.destroyAllWindows()\n",
    "    print(\"completed sample is collecting\")\n",
    "generate_dataset()     \n",
    "        "
   ]
  },
  {
   "cell_type": "markdown",
   "id": "c25c87bd-34af-41b0-9d4d-a94da903de50",
   "metadata": {},
   "source": [
    "face recognization project\n",
    "#generate dataset\n",
    "#train the classifier and save it\n",
    "#detect the face and name it"
   ]
  },
  {
   "cell_type": "code",
   "execution_count": 5,
   "id": "d38574c6-37be-4c54-9d62-314dce4322dc",
   "metadata": {},
   "outputs": [
    {
     "name": "stdout",
     "output_type": "stream",
     "text": [
      "train the data set completed\n"
     ]
    }
   ],
   "source": [
    "\n",
    "def train_classifier(data_dir):\n",
    "    path=[os.path.join(data_dir,f) for f in os.listdir(data_dir)]\n",
    "    faces=[]\n",
    "    ids=[]\n",
    "    for image in path:\n",
    "        img=Image.open(image).convert('L')\n",
    "        imageNp=np.array(img,'uint8')\n",
    "        id= int(os.path.split(image)[1].split(\".\")[1])\n",
    "        faces.append(imageNp)\n",
    "        ids.append(id)\n",
    "    ids=np.array(ids)\n",
    "    #train the classifier and save\n",
    "    clf = cv2.face.LBPHFaceRecognizer_create()\n",
    "    clf.train(faces,ids)\n",
    "    clf.write(\"classifier.xml\")\n",
    "train_classifier('data')\n",
    "print(\"train the data set completed\")"
   ]
  },
  {
   "cell_type": "code",
   "execution_count": 27,
   "id": "d9e5d84b-fe15-4c86-adc2-42d345c67fb0",
   "metadata": {},
   "outputs": [],
   "source": [
    "def draw_boundary(img,classifier,scaleFactor,minNeighbors,color,text,clf):\n",
    "    gray_image=cv2.cvtColor(img,cv2.COLOR_BGR2GRAY)\n",
    "    features=classifier.detectMultiScale(gray_image,scaleFactor,minNeighbors)\n",
    "    coords=[]\n",
    "    for(x,y,w,h) in features:\n",
    "        cv2.rectangle(img,(x,y),(x+w,y+h),color,2)\n",
    "        id,pred=clf.predict(gray_image[y:y+h,x:x+w])\n",
    "        confidence=int(100*(1-pred/300))\n",
    "        if confidence>77:\n",
    "            if id==1:\n",
    "                cv2.putText(img,\"umar\",(x,y-5),cv2.FONT_HERSHEY_SIMPLEX,0.8,color,1,cv2.LINE_AA)\n",
    "            if id==2:\n",
    "                cv2.putText(img,\"farooq\",(x,y-5),cv2.FONT_HERSHEY_SIMPLEX,0.8,color,1,cv2.LINE_AA)  \n",
    "        else:\n",
    "            cv2.putText(img,\"unknown\",(x,y-5),cv2.FONT_HERSHEY_SIMPLEX,0.8,color,1,cv2.LINE_AA)\n",
    "        coords=[x,y,w,h]\n",
    "        return coords\n",
    "def recognize(img,clf,faceCascade):\n",
    "    coords=draw_boundary(img,faceCascade,1.1,10,(0,0,255),\"Face\",clf)\n",
    "    return img\n",
    "faceCascade=cv2.CascadeClassifier(\"haarcascade_frontalface_default.xml\")\n",
    "clf = cv2.face.LBPHFaceRecognizer_create()\n",
    "clf.read(\"classifier.xml\")\n",
    "video_capture=cv2.VideoCapture(0)\n",
    "while True:\n",
    "    ret,img=video_capture.read()\n",
    "    img=recognize(img,clf,faceCascade)\n",
    "    cv2.imshow(\"face detection\",img)\n",
    "    if cv2.waitKey(1)==13:\n",
    "        break\n",
    "video_capture.release()\n",
    "cv2.destroyAllWindows()"
   ]
  },
  {
   "cell_type": "code",
   "execution_count": null,
   "id": "a1350fe2-a69d-454e-9e09-5dd6f7cece83",
   "metadata": {},
   "outputs": [],
   "source": []
  },
  {
   "cell_type": "code",
   "execution_count": null,
   "id": "9aa30f13-a7ed-408c-bce4-5bf57c222dbe",
   "metadata": {},
   "outputs": [],
   "source": []
  },
  {
   "cell_type": "code",
   "execution_count": null,
   "id": "196b05f5-c2a0-49e2-8816-30cc6283adab",
   "metadata": {},
   "outputs": [],
   "source": []
  },
  {
   "cell_type": "code",
   "execution_count": 33,
   "id": "bb0a2b6a-d7f0-443d-8a9d-0c6f5192bcab",
   "metadata": {},
   "outputs": [
    {
     "name": "stderr",
     "output_type": "stream",
     "text": [
      "<>:92: SyntaxWarning: \"is\" with 'tuple' literal. Did you mean \"==\"?\n",
      "<>:92: SyntaxWarning: \"is\" with 'tuple' literal. Did you mean \"==\"?\n",
      "C:\\Users\\lenovo\\AppData\\Local\\Temp\\ipykernel_17764\\2033553646.py:92: SyntaxWarning: \"is\" with 'tuple' literal. Did you mean \"==\"?\n",
      "  if faces is():\n"
     ]
    }
   ],
   "source": [
    "window=tk.Tk()\n",
    "window.title(\"Face recognization system\")\n",
    "window.config(background=\"white\")\n",
    "\n",
    "\n",
    "name=tk.Label(window,text=\"Name\", font=(\"serif\",20))\n",
    "name.grid(column=0,row=2)\n",
    "t1=tk.Entry(window,width=25,bd=6)\n",
    "t1.grid(column=1,row=2)\n",
    "\n",
    "\n",
    "age=tk.Label(window,text=\"Age\", font=(\"serif\",20))\n",
    "age.grid(column=0,row=3)\n",
    "t2=tk.Entry(window,width=25,bd=6)\n",
    "t2.grid(column=1,row=3)\n",
    "\n",
    "place=tk.Label(window,text=\"Place\", font=(\"serif\",20))\n",
    "place.grid(column=0,row=4)\n",
    "t3=tk.Entry(window,width=25,bd=6)\n",
    "t3.grid(column=1,row=4)\n",
    "\n",
    "def Train_classifier():\n",
    "    data_dir=\"C:/Users/lenovo/OneDrive - DATANOVELTECH PRIVATE LIMITED/Desktop/Project folders/face_recognization_project/data\"\n",
    "    path=[os.path.join(data_dir,f) for f in os.listdir(data_dir)]\n",
    "    faces=[]\n",
    "    ids=[]\n",
    "    for image in path:\n",
    "        img=Image.open(image).convert('L')\n",
    "        imageNp=np.array(img,'uint8')\n",
    "        id= int(os.path.split(image)[1].split(\".\")[1])\n",
    "        faces.append(imageNp)\n",
    "        ids.append(id)\n",
    "    ids=np.array(ids)\n",
    "    #train the classifier and save\n",
    "    clf = cv2.face.LBPHFaceRecognizer_create()\n",
    "    clf.train(faces,ids)\n",
    "    clf.write(\"classifier.xml\")\n",
    "    messagebox.showinfo(\"Result\",\"Train dataset completed..\")\n",
    "    \n",
    "b1=tk.Button(window,text=\"Train classifier\",font=(\"Algerian,20\"),bg=\"orange\",fg=\"red\",command=Train_classifier)\n",
    "b1.grid(column=0,row=1)\n",
    "\n",
    "\n",
    "def detect_face():\n",
    "    def draw_boundary(img,classifier,scaleFactor,minNeighbors,color,text,clf):\n",
    "        gray_image=cv2.cvtColor(img,cv2.COLOR_BGR2GRAY)\n",
    "        features=classifier.detectMultiScale(gray_image,scaleFactor,minNeighbors)\n",
    "        coords=[]\n",
    "        for(x,y,w,h) in features:\n",
    "            cv2.rectangle(img,(x,y),(x+w,y+h),color,2)\n",
    "            id,pred=clf.predict(gray_image[y:y+h,x:x+w])\n",
    "            confidence=int(100*(1-pred/300))\n",
    "            if confidence>80:\n",
    "                if id==1:\n",
    "                    cv2.putText(img,\"umar\",(x,y-5),cv2.FONT_HERSHEY_SIMPLEX,0.8,color,1,cv2.LINE_AA)\n",
    "                if id==2:\n",
    "                    cv2.putText(img,\"farooq\",(x,y-5),cv2.FONT_HERSHEY_SIMPLEX,0.8,color,1,cv2.LINE_AA)  \n",
    "            else:\n",
    "                cv2.putText(img,\"unknown\",(x,y-5),cv2.FONT_HERSHEY_SIMPLEX,0.8,color,1,cv2.LINE_AA)\n",
    "            coords=[x,y,w,h]\n",
    "            return coords\n",
    "    def recognize(img,clf,faceCascade):\n",
    "        coords=draw_boundary(img,faceCascade,1.1,10,(0,0,255),\"Face\",clf)\n",
    "        return img\n",
    "    faceCascade=cv2.CascadeClassifier(\"haarcascade_frontalface_default.xml\")\n",
    "    clf = cv2.face.LBPHFaceRecognizer_create()\n",
    "    clf.read(\"classifier.xml\")\n",
    "    video_capture=cv2.VideoCapture(0)\n",
    "    while True:\n",
    "        ret,img=video_capture.read()\n",
    "        img=recognize(img,clf,faceCascade)\n",
    "        cv2.imshow(\"face detection\",img)\n",
    "        if cv2.waitKey(1)==13:\n",
    "            break\n",
    "    video_capture.release()\n",
    "    cv2.destroyAllWindows()\n",
    "    \n",
    "b2=tk.Button(window,text=\"Detect the Face\",font=(\"Algerian,20\"),bg=\"green\",fg=\"white\",command=detect_face)\n",
    "b2.grid(column=1,row=1)\n",
    "\n",
    "\n",
    "def generate_dataset():\n",
    "    id= simpledialog.askstring( \"users ID\", \"Enter the id\")\n",
    "    face_classifier=cv2.CascadeClassifier(\"haarcascade_frontalface_default.xml\")\n",
    "    def face_cropped(img):\n",
    "        gray=cv2.cvtColor(img,cv2.COLOR_BGR2GRAY)\n",
    "        faces=face_classifier.detectMultiScale(gray,1.5,5)\n",
    "        if faces is():\n",
    "            return None\n",
    "        for(x,y,w,h) in faces:\n",
    "            cropped_face=img[y:y+h,x:x+w]\n",
    "        return cropped_face\n",
    "    cap=cv2.VideoCapture(0)\n",
    "    id=f\"{id}\"\n",
    "    img_id=0\n",
    "    while True:\n",
    "        ret,frame=cap.read()\n",
    "        if face_cropped(frame) is not None:\n",
    "            img_id+=1\n",
    "            face=cv2.resize(face_cropped(frame),(250,360))\n",
    "            face=cv2.cvtColor(face,cv2.COLOR_BGR2GRAY)\n",
    "            file_dir=\"data\"\n",
    "            if not os.path.exists(file_dir):\n",
    "                os.makedirs(file_dir)\n",
    "            file_name_path=os.path.join(file_dir,f\"user.{id}.{img_id}.jpg\")\n",
    "            cv2.imwrite(file_name_path,face)\n",
    "            cv2.putText(face,str(img_id),(50,50),cv2.FONT_HERSHEY_COMPLEX,1, (0,255,0),2)\n",
    "            #(50,50) IS THE ORIGINAL POINT FROM WERE TEXT IS TO BE WRITTEN\n",
    "            #FONT SCALE=1\n",
    "            #TICKNESS=2\n",
    "            cv2.imshow(\"cropped face\",face)\n",
    "            if cv2.waitKey(1)==13 or int(img_id)==50:\n",
    "                break\n",
    "    cap.release()\n",
    "    cv2.destroyAllWindows()\n",
    "    messagebox.showinfo(\"Result\",\"Generating Dataset completed..\")\n",
    "\n",
    "b3=tk.Button(window,text=\"Generate Dataset\",font=(\"Algerian,20\"),bg=\"pink\",fg=\"black\",command=generate_dataset)\n",
    "b3.grid(column=2,row=1)\n",
    "\n",
    "\n",
    "window.geometry(\"450x250\")\n",
    "window.mainloop()"
   ]
  },
  {
   "cell_type": "code",
   "execution_count": null,
   "id": "d5f28c1c-4cf5-449b-b367-94c32cb00b66",
   "metadata": {},
   "outputs": [],
   "source": []
  },
  {
   "cell_type": "code",
   "execution_count": 18,
   "id": "8e7b5dc8-cad9-48c6-bc5a-9bfc51527c12",
   "metadata": {},
   "outputs": [
    {
     "ename": "ProgrammingError",
     "evalue": "('42S01', \"[42S01] [Microsoft][ODBC Driver 17 for SQL Server][SQL Server]There is already an object named 'Face_detection' in the database. (2714) (SQLExecDirectW)\")",
     "output_type": "error",
     "traceback": [
      "\u001b[1;31m---------------------------------------------------------------------------\u001b[0m",
      "\u001b[1;31mProgrammingError\u001b[0m                          Traceback (most recent call last)",
      "Cell \u001b[1;32mIn[18], line 15\u001b[0m\n\u001b[0;32m      8\u001b[0m cursor\u001b[38;5;241m=\u001b[39mconn\u001b[38;5;241m.\u001b[39mcursor()\n\u001b[0;32m      9\u001b[0m query\u001b[38;5;241m=\u001b[39m\u001b[38;5;124m'''\u001b[39m\u001b[38;5;124mCREATE TABLE Face_detection(\u001b[39m\n\u001b[0;32m     10\u001b[0m \u001b[38;5;124m        id NVARCHAR(100),\u001b[39m\n\u001b[0;32m     11\u001b[0m \u001b[38;5;124m        Name NVARCHAR(100),\u001b[39m\n\u001b[0;32m     12\u001b[0m \u001b[38;5;124m        Age INT,\u001b[39m\n\u001b[0;32m     13\u001b[0m \u001b[38;5;124m        Address VARCHAR(255)\u001b[39m\n\u001b[0;32m     14\u001b[0m \u001b[38;5;124m        )\u001b[39m\u001b[38;5;124m'''\u001b[39m\n\u001b[1;32m---> 15\u001b[0m cursor\u001b[38;5;241m.\u001b[39mexecute(query)\n\u001b[0;32m     16\u001b[0m conn\u001b[38;5;241m.\u001b[39mcommit()\n\u001b[0;32m     17\u001b[0m conn\u001b[38;5;241m.\u001b[39mclose\n",
      "\u001b[1;31mProgrammingError\u001b[0m: ('42S01', \"[42S01] [Microsoft][ODBC Driver 17 for SQL Server][SQL Server]There is already an object named 'Face_detection' in the database. (2714) (SQLExecDirectW)\")"
     ]
    }
   ],
   "source": [
    "str=(\n",
    "    \"Driver={ODBC Driver 17 for SQL Server};\" \n",
    "     \"Server=DESKTOP-P796HIL\\\\SQLEXPRESS01;\" \n",
    "     \"Database=SAMPLE_DB;\"\n",
    "     \"Trusted_Connection=yes;\"\n",
    ")\n",
    "conn=pyodbc.connect(str)\n",
    "cursor=conn.cursor()\n",
    "query='''CREATE TABLE Face_detection(\n",
    "        id NVARCHAR(100),\n",
    "        Name NVARCHAR(100),\n",
    "        Age INT,\n",
    "        Address VARCHAR(255)\n",
    "        )'''\n",
    "cursor.execute(query)\n",
    "conn.commit()\n",
    "conn.close\n",
    "cursor.close\n",
    "print(\"Table 'Face_detection' created successfully.\")"
   ]
  },
  {
   "cell_type": "code",
   "execution_count": 25,
   "id": "2063ec77-6237-4119-b3ce-ddc54802b509",
   "metadata": {},
   "outputs": [
    {
     "name": "stdout",
     "output_type": "stream",
     "text": [
      "['id', 'Name', 'Age', 'Address']\n"
     ]
    }
   ],
   "source": [
    "cursor.execute(\"SELECT * FROM Face_detection\")\n",
    "column_name=[column[0] for column in cursor.description]\n",
    "print(column_name)"
   ]
  },
  {
   "cell_type": "code",
   "execution_count": null,
   "id": "024693f5-9099-4337-895f-0204612b14a2",
   "metadata": {},
   "outputs": [],
   "source": []
  },
  {
   "cell_type": "code",
   "execution_count": 96,
   "id": "73d911e8-22db-441d-ac55-25b78c01a73e",
   "metadata": {},
   "outputs": [],
   "source": [
    "from tkinter import simpledialog\n",
    "\n",
    "# Ask for string input\n",
    "user_input = simpledialog.askstring( \"tital of the window\", \"Enter something:\")\n",
    "print(user_input)\n",
    "\n"
   ]
  },
  {
   "cell_type": "code",
   "execution_count": 98,
   "id": "a99248e2-d9c8-4bf7-b902-4dafc9ba4bde",
   "metadata": {},
   "outputs": [
    {
     "name": "stdout",
     "output_type": "stream",
     "text": [
      "1\n"
     ]
    }
   ],
   "source": [
    "print(user_input)"
   ]
  },
  {
   "cell_type": "code",
   "execution_count": 113,
   "id": "6980bb55-e30e-4f6a-bd9d-47183258ab01",
   "metadata": {},
   "outputs": [
    {
     "name": "stdout",
     "output_type": "stream",
     "text": [
      "None\n"
     ]
    }
   ],
   "source": [
    "id=simpledialog.askstring(\"take the user details\",\"Enter the user ID\")\n",
    "id=simpledialog.askstring(\"take the user details\",\"Enter the user ID\")\n",
    "print(id)"
   ]
  },
  {
   "cell_type": "code",
   "execution_count": 85,
   "id": "b6833507-5bd8-4be0-9397-133dc9d48c87",
   "metadata": {},
   "outputs": [
    {
     "name": "stdout",
     "output_type": "stream",
     "text": [
      "hq\n"
     ]
    }
   ],
   "source": [
    "import tkinter as tk\n",
    "window=tk.Tk()\n",
    "window.title(\"this is the sample window\")   \n",
    "name=tk.Label(window,text=\"Name\", font=(\"serif\",20))\n",
    "name.grid(column=0,row=0)\n",
    "t1=tk.Entry(window,width=25,bd=6)\n",
    "t1.grid(column=1,row=0)\n",
    "def name():\n",
    "    name1=t1.get()\n",
    "    print(name1)\n",
    "b1=tk.Button(window,text=\"submit\",command=name)\n",
    "b1.grid(column=2,row=0)\n",
    "window.geometry(\"200x100\")\n",
    "window.mainloop()"
   ]
  },
  {
   "cell_type": "code",
   "execution_count": null,
   "id": "76a93550-f99d-4cab-b850-00d4d0426b7c",
   "metadata": {},
   "outputs": [],
   "source": []
  }
 ],
 "metadata": {
  "kernelspec": {
   "display_name": "Python 3 (ipykernel)",
   "language": "python",
   "name": "python3"
  },
  "language_info": {
   "codemirror_mode": {
    "name": "ipython",
    "version": 3
   },
   "file_extension": ".py",
   "mimetype": "text/x-python",
   "name": "python",
   "nbconvert_exporter": "python",
   "pygments_lexer": "ipython3",
   "version": "3.12.4"
  }
 },
 "nbformat": 4,
 "nbformat_minor": 5
}
